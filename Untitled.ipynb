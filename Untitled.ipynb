{
 "cells": [
  {
   "cell_type": "code",
   "execution_count": 1,
   "id": "10f1b56c",
   "metadata": {},
   "outputs": [],
   "source": [
    "lstname = ['Dax', 'Cisko', 'Julian', 'Oddo']\n",
    "lstAge = [16,17,15,18]\n",
    "lstMarks=[80,91,94,95 ]"
   ]
  },
  {
   "cell_type": "code",
   "execution_count": 4,
   "id": "9dc39f29",
   "metadata": {},
   "outputs": [
    {
     "data": {
      "text/plain": [
       "4"
      ]
     },
     "execution_count": 4,
     "metadata": {},
     "output_type": "execute_result"
    }
   ],
   "source": [
    "numstudents = len(lstname)\n",
    "numstudents"
   ]
  },
  {
   "cell_type": "code",
   "execution_count": 5,
   "id": "6ac5474f",
   "metadata": {},
   "outputs": [
    {
     "name": "stdout",
     "output_type": "stream",
     "text": [
      "[16, 17, 15, 18]\n"
     ]
    }
   ],
   "source": [
    "print(lstAge)"
   ]
  },
  {
   "cell_type": "code",
   "execution_count": 7,
   "id": "24e6cc37",
   "metadata": {},
   "outputs": [
    {
     "data": {
      "text/plain": [
       "[['Dax', 'Cisko', 'Julian', 'Oddo'], [16, 17, 15, 18], [80, 91, 94, 95]]"
      ]
     },
     "execution_count": 7,
     "metadata": {},
     "output_type": "execute_result"
    }
   ],
   "source": [
    "#List of Lists\n",
    "lststudents =[lstname,lstAge,lstMarks]\n",
    "lststudents"
   ]
  },
  {
   "cell_type": "code",
   "execution_count": 10,
   "id": "588883d1",
   "metadata": {},
   "outputs": [
    {
     "ename": "SyntaxError",
     "evalue": "EOL while scanning string literal (<ipython-input-10-23096af52806>, line 2)",
     "output_type": "error",
     "traceback": [
      "\u001b[0;36m  File \u001b[0;32m\"<ipython-input-10-23096af52806>\"\u001b[0;36m, line \u001b[0;32m2\u001b[0m\n\u001b[0;31m    print(f'{lststudents[0][i]},\u001b[0m\n\u001b[0m                                 ^\u001b[0m\n\u001b[0;31mSyntaxError\u001b[0m\u001b[0;31m:\u001b[0m EOL while scanning string literal\n"
     ]
    }
   ],
   "source": [
    "for i in range (numstudents):\n",
    "    print(f'{lststudents[0][i]}, \n",
    "          Age is {lststudents[1][i]}, and \n",
    "          there Exam Score is {lststudents[2][i]}')"
   ]
  },
  {
   "cell_type": "code",
   "execution_count": 13,
   "id": "759ee68a",
   "metadata": {},
   "outputs": [
    {
     "name": "stdout",
     "output_type": "stream",
     "text": [
      "Oddo\n"
     ]
    }
   ],
   "source": [
    "dictResults = {\"name\":lstname,\"Age\":lstAge,\"marks\":lstMarks}\n",
    "print(dictResults['name'][3])\n",
    "#Name and index 3 of the 1stname"
   ]
  },
  {
   "cell_type": "code",
   "execution_count": 15,
   "id": "ba1c8677",
   "metadata": {},
   "outputs": [
    {
     "name": "stdout",
     "output_type": "stream",
     "text": [
      "{'name': 'Dax', 'age': 16, 'marks': 80}\n",
      "[{'name': 'Dax', 'age': 16, 'marks': 80}]\n",
      "{'name': 'Cisko', 'age': 17, 'marks': 91}\n",
      "[{'name': 'Cisko', 'age': 17, 'marks': 91}, {'name': 'Cisko', 'age': 17, 'marks': 91}]\n",
      "{'name': 'Julian', 'age': 15, 'marks': 94}\n",
      "[{'name': 'Julian', 'age': 15, 'marks': 94}, {'name': 'Julian', 'age': 15, 'marks': 94}, {'name': 'Julian', 'age': 15, 'marks': 94}]\n",
      "{'name': 'Oddo', 'age': 18, 'marks': 95}\n",
      "[{'name': 'Oddo', 'age': 18, 'marks': 95}, {'name': 'Oddo', 'age': 18, 'marks': 95}, {'name': 'Oddo', 'age': 18, 'marks': 95}, {'name': 'Oddo', 'age': 18, 'marks': 95}]\n"
     ]
    }
   ],
   "source": [
    "listofdict=[]\n",
    "dictnewstud ={}\n",
    "for i in range (numstudents):\n",
    "    dictnewstud[\"name\"]=lstname[i]\n",
    "    dictnewstud[\"age\"]=lstAge[i]\n",
    "    dictnewstud[\"marks\"]=lstMarks[i]\n",
    "    print(dictnewstud)\n",
    "    listofdict.append(dictnewstud)\n",
    "    print(listofdict)"
   ]
  },
  {
   "cell_type": "code",
   "execution_count": null,
   "id": "13fc4536",
   "metadata": {},
   "outputs": [],
   "source": [
    "   listofdict.append(dictnewstud)\n",
    "    print(listofdict)\n",
    "    dictnewstud={}\n",
    "print('======')\n",
    "print(listofdict)"
   ]
  }
 ],
 "metadata": {
  "kernelspec": {
   "display_name": "PythonData",
   "language": "python",
   "name": "pythondata"
  },
  "language_info": {
   "codemirror_mode": {
    "name": "ipython",
    "version": 3
   },
   "file_extension": ".py",
   "mimetype": "text/x-python",
   "name": "python",
   "nbconvert_exporter": "python",
   "pygments_lexer": "ipython3",
   "version": "3.8.5"
  }
 },
 "nbformat": 4,
 "nbformat_minor": 5
}
